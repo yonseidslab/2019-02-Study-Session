{
 "cells": [
  {
   "cell_type": "code",
   "execution_count": 1,
   "metadata": {},
   "outputs": [],
   "source": [
    "# Lab 5 Logistic Regression Classifier\n",
    "import tensorflow as tf\n",
    "tf.set_random_seed(777)  # for reproducibility"
   ]
  },
  {
   "cell_type": "code",
   "execution_count": 2,
   "metadata": {},
   "outputs": [],
   "source": [
    "x_data = [[1, 2],\n",
    "          [2, 3],\n",
    "          [3, 1],\n",
    "          [4, 3],\n",
    "          [5, 3],\n",
    "          [6, 2]]\n",
    "y_data = [[0],\n",
    "          [0],\n",
    "          [0],\n",
    "          [1],\n",
    "          [1],\n",
    "          [1]]"
   ]
  },
  {
   "cell_type": "code",
   "execution_count": 3,
   "metadata": {},
   "outputs": [],
   "source": [
    "# placeholders for a tensor that will be always fed.\n",
    "X = tf.placeholder(tf.float32, shape=[None, 2])\n",
    "Y = tf.placeholder(tf.float32, shape=[None, 1])\n",
    "\n",
    "W = tf.Variable(tf.random_normal([2, 1]), name='weight')\n",
    "b = tf.Variable(tf.random_normal([1]), name='bias')"
   ]
  },
  {
   "cell_type": "code",
   "execution_count": 4,
   "metadata": {},
   "outputs": [],
   "source": [
    "# Hypothesis using sigmoid: tf.div(1., 1. + tf.exp(tf.matmul(X, W)))\n",
    "hypothesis = tf.sigmoid(tf.matmul(X, W) + b)"
   ]
  },
  {
   "cell_type": "code",
   "execution_count": 5,
   "metadata": {},
   "outputs": [],
   "source": [
    "# cost/loss function\n",
    "cost = -tf.reduce_mean(Y * tf.log(hypothesis) + (1 - Y) *\n",
    "                       tf.log(1 - hypothesis))\n",
    "\n",
    "train = tf.train.GradientDescentOptimizer(learning_rate=0.01).minimize(cost)"
   ]
  },
  {
   "cell_type": "code",
   "execution_count": 6,
   "metadata": {},
   "outputs": [],
   "source": [
    "# Accuracy computation\n",
    "# True if hypothesis>0.5 else False\n",
    "predicted = tf.cast(hypothesis > 0.5, dtype=tf.float32)\n",
    "accuracy = tf.reduce_mean(tf.cast(tf.equal(predicted, Y), dtype=tf.float32))"
   ]
  },
  {
   "cell_type": "code",
   "execution_count": 7,
   "metadata": {
    "scrolled": true
   },
   "outputs": [
    {
     "name": "stdout",
     "output_type": "stream",
     "text": [
      "0 1.7307833\n",
      "200 0.5715119\n",
      "400 0.5074139\n",
      "600 0.4718242\n",
      "800 0.44758478\n",
      "1000 0.42857108\n",
      "1200 0.41232464\n",
      "1400 0.39775506\n",
      "1600 0.38433787\n",
      "1800 0.37180105\n",
      "2000 0.35999325\n",
      "2200 0.34882212\n",
      "2400 0.33822623\n",
      "2600 0.32816052\n",
      "2800 0.31858906\n",
      "3000 0.30948088\n",
      "3200 0.30080852\n",
      "3400 0.29254702\n",
      "3600 0.28467283\n",
      "3800 0.27716395\n",
      "4000 0.2699997\n",
      "4200 0.26316056\n",
      "4400 0.2566281\n",
      "4600 0.2503851\n",
      "4800 0.24441504\n",
      "5000 0.23870273\n",
      "5200 0.23323363\n",
      "5400 0.22799431\n",
      "5600 0.22297198\n",
      "5800 0.21815474\n",
      "6000 0.21353154\n",
      "6200 0.20909168\n",
      "6400 0.20482557\n",
      "6600 0.20072372\n",
      "6800 0.1967777\n",
      "7000 0.19297928\n",
      "7200 0.18932094\n",
      "7400 0.18579553\n",
      "7600 0.18239634\n",
      "7800 0.17911713\n",
      "8000 0.17595184\n",
      "8200 0.17289506\n",
      "8400 0.16994144\n",
      "8600 0.16708624\n",
      "8800 0.16432472\n",
      "9000 0.16165248\n",
      "9200 0.15906551\n",
      "9400 0.1565599\n",
      "9600 0.15413193\n",
      "9800 0.15177831\n",
      "10000 0.14949557\n",
      "\n",
      "Hypothesis:  [[0.03074028]\n",
      " [0.15884678]\n",
      " [0.30486736]\n",
      " [0.78138196]\n",
      " [0.93957496]\n",
      " [0.9801688 ]] \n",
      "Correct (Y):  [[0.]\n",
      " [0.]\n",
      " [0.]\n",
      " [1.]\n",
      " [1.]\n",
      " [1.]] \n",
      "Accuracy:  1.0\n"
     ]
    }
   ],
   "source": [
    "# Launch graph\n",
    "with tf.Session() as sess:\n",
    "    # Initialize TensorFlow variables\n",
    "    sess.run(tf.global_variables_initializer())\n",
    "\n",
    "    for step in range(10001):\n",
    "        cost_val, _ = sess.run([cost, train], feed_dict={X: x_data, Y: y_data})\n",
    "        if step % 200 == 0:\n",
    "            print(step, cost_val)\n",
    "\n",
    "    # Accuracy report\n",
    "    h, c, a = sess.run([hypothesis, predicted, accuracy],\n",
    "                       feed_dict={X: x_data, Y: y_data})\n",
    "    print(\"\\nHypothesis: \", h, \"\\nCorrect (Y): \", c, \"\\nAccuracy: \", a)"
   ]
  }
 ],
 "metadata": {
  "anaconda-cloud": {},
  "kernelspec": {
   "display_name": "Python 3",
   "language": "python",
   "name": "python3"
  },
  "language_info": {
   "codemirror_mode": {
    "name": "ipython",
    "version": 3
   },
   "file_extension": ".py",
   "mimetype": "text/x-python",
   "name": "python",
   "nbconvert_exporter": "python",
   "pygments_lexer": "ipython3",
   "version": "3.7.3"
  }
 },
 "nbformat": 4,
 "nbformat_minor": 1
}
