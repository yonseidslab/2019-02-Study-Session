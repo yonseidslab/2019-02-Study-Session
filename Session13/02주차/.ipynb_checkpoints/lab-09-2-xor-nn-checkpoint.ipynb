{
 "cells": [
  {
   "cell_type": "code",
   "execution_count": 1,
   "metadata": {},
   "outputs": [],
   "source": [
    "# 앞에서 봤던, 일반적인 linear modeling와 달리, neural network를 구현함.\n",
    "import tensorflow as tf\n",
    "import numpy as np\n",
    "\n",
    "tf.set_random_seed(777)  # for reproducibility"
   ]
  },
  {
   "cell_type": "code",
   "execution_count": 2,
   "metadata": {},
   "outputs": [],
   "source": [
    "# 데이터\n",
    "x_data = np.array([[0, 0], [0, 1], [1, 0], [1, 1]], dtype=np.float32)\n",
    "# 정답\n",
    "y_data = np.array([[0], [1], [1], [0]], dtype=np.float32)"
   ]
  },
  {
   "cell_type": "code",
   "execution_count": 3,
   "metadata": {},
   "outputs": [],
   "source": [
    "# 앞의 None : 몇 개의 데이터가 들어올지 모르므로, None\n",
    "# 뒤의 2 : 피쳐는 총 두 개뿐. (x1, x2)\n",
    "X = tf.placeholder(tf.float32, [None, 2])\n",
    "\n",
    "# 앞의 None : 몇 개의 데이터가 들어올지 모르므로, None\n",
    "# 결국, 0과 1 둘 중에 하나의 결과를 내놓는 것이므로\n",
    "Y = tf.placeholder(tf.float32, [None, 1])"
   ]
  },
  {
   "cell_type": "code",
   "execution_count": 4,
   "metadata": {},
   "outputs": [],
   "source": [
    "#히든 레이어의 가중치의 매트릭스 형태(2X2)\n",
    "W1 = tf.Variable(tf.random_normal([2, 2]), name='weight1')\n",
    "#히든 레이어의 bias의 매트릭스 형태(1X2)\n",
    "b1 = tf.Variable(tf.random_normal([2]), name='bias1')"
   ]
  },
  {
   "cell_type": "code",
   "execution_count": 5,
   "metadata": {},
   "outputs": [],
   "source": [
    "#XW1 + b1의 계산\n",
    "layer1 = tf.sigmoid(tf.matmul(X, W1) + b1)"
   ]
  },
  {
   "cell_type": "code",
   "execution_count": 6,
   "metadata": {},
   "outputs": [],
   "source": [
    "# 위의 과정 반복, 단 이제는 마지막 0 혹은 1의 값이 나와야하므로 2X2\n",
    "W2 = tf.Variable(tf.random_normal([2, 1]), name='weight2')\n",
    "b2 = tf.Variable(tf.random_normal([1]), name='bias2')"
   ]
  },
  {
   "cell_type": "code",
   "execution_count": 7,
   "metadata": {},
   "outputs": [],
   "source": [
    "# 최종 가설\n",
    "hypothesis = tf.sigmoid(tf.matmul(layer1, W2) + b2)"
   ]
  },
  {
   "cell_type": "code",
   "execution_count": 8,
   "metadata": {},
   "outputs": [],
   "source": [
    "# cost/loss function : logistic regression (binary classification이므로)\n",
    "cost = -tf.reduce_mean(Y * tf.log(hypothesis) + (1 - Y) * tf.log(1 - hypothesis))"
   ]
  },
  {
   "cell_type": "code",
   "execution_count": 9,
   "metadata": {},
   "outputs": [],
   "source": [
    "train = tf.train.GradientDescentOptimizer(learning_rate=0.1).minimize(cost)"
   ]
  },
  {
   "cell_type": "code",
   "execution_count": 10,
   "metadata": {},
   "outputs": [],
   "source": [
    "# Accuracy computation\n",
    "# True if hypothesis>0.5 else False (binary이므로)\n",
    "predicted = tf.cast(hypothesis > 0.5, dtype=tf.float32)\n",
    "accuracy = tf.reduce_mean(tf.cast(tf.equal(predicted, Y), dtype=tf.float32))"
   ]
  },
  {
   "cell_type": "code",
   "execution_count": 11,
   "metadata": {
    "scrolled": true
   },
   "outputs": [
    {
     "name": "stdout",
     "output_type": "stream",
     "text": [
      "0 0.75844026\n",
      "100 0.69586563\n",
      "200 0.69405544\n",
      "300 0.69245243\n",
      "400 0.6908216\n",
      "500 0.68899894\n",
      "600 0.68683594\n",
      "700 0.6841757\n",
      "800 0.68083966\n",
      "900 0.6766206\n",
      "1000 0.67128885\n",
      "1100 0.6646102\n",
      "1200 0.6563796\n",
      "1300 0.6464643\n",
      "1400 0.6348423\n",
      "1500 0.6216097\n",
      "1600 0.60693777\n",
      "1700 0.59097785\n",
      "1800 0.57374084\n",
      "1900 0.55498725\n",
      "2000 0.5341574\n",
      "2100 0.51038074\n",
      "2200 0.48264128\n",
      "2300 0.45019016\n",
      "2400 0.41314077\n",
      "2500 0.37286392\n",
      "2600 0.33173394\n",
      "2700 0.29228634\n",
      "2800 0.256397\n",
      "2900 0.22497267\n",
      "3000 0.19811322\n",
      "3100 0.17544392\n",
      "3200 0.15639654\n",
      "3300 0.14037839\n",
      "3400 0.12685256\n",
      "3500 0.11536377\n",
      "3600 0.10553938\n",
      "3700 0.097078905\n",
      "3800 0.08974176\n",
      "3900 0.083335534\n",
      "4000 0.07770603\n",
      "4100 0.07272896\n",
      "4200 0.068303704\n",
      "4300 0.06434827\n",
      "4400 0.06079522\n",
      "4500 0.057589065\n",
      "4600 0.054683536\n",
      "4700 0.05204003\n",
      "4800 0.049625978\n",
      "4900 0.047413893\n",
      "5000 0.04538031\n",
      "5100 0.043505233\n",
      "5200 0.041771397\n",
      "5300 0.04016395\n",
      "5400 0.03866996\n",
      "5500 0.037278183\n",
      "5600 0.035978753\n",
      "5700 0.034763098\n",
      "5800 0.0336235\n",
      "5900 0.03255321\n",
      "6000 0.03154632\n",
      "6100 0.030597413\n",
      "6200 0.029701851\n",
      "6300 0.028855383\n",
      "6400 0.02805398\n",
      "6500 0.027294345\n",
      "6600 0.026573366\n",
      "6700 0.025888227\n",
      "6800 0.025236323\n",
      "6900 0.024615385\n",
      "7000 0.024023315\n",
      "7100 0.02345817\n",
      "7200 0.022918168\n",
      "7300 0.022401713\n",
      "7400 0.021907333\n",
      "7500 0.02143368\n",
      "7600 0.02097943\n",
      "7700 0.02054355\n",
      "7800 0.020124871\n",
      "7900 0.019722445\n",
      "8000 0.01933535\n",
      "8100 0.018962793\n",
      "8200 0.018603895\n",
      "8300 0.018257981\n",
      "8400 0.017924387\n",
      "8500 0.017602414\n",
      "8600 0.017291553\n",
      "8700 0.016991202\n",
      "8800 0.01670083\n",
      "8900 0.016419994\n",
      "9000 0.016148258\n",
      "9100 0.015885083\n",
      "9200 0.015630193\n",
      "9300 0.0153831225\n",
      "9400 0.015143597\n",
      "9500 0.014911274\n",
      "9600 0.014685774\n",
      "9700 0.014466876\n",
      "9800 0.0142542\n",
      "9900 0.014047621\n",
      "10000 0.013846771\n",
      "\n",
      "Hypothesis:  [[0.01338217]\n",
      " [0.98166394]\n",
      " [0.9880941 ]\n",
      " [0.01135805]] \n",
      "Correct:  [[0.]\n",
      " [1.]\n",
      " [1.]\n",
      " [0.]] \n",
      "Accuracy:  1.0\n"
     ]
    }
   ],
   "source": [
    "# Launch graph\n",
    "with tf.Session() as sess:\n",
    "    # Initialize TensorFlow variables\n",
    "    sess.run(tf.global_variables_initializer())\n",
    "\n",
    "    for step in range(10001):\n",
    "        _, cost_val = sess.run([train, cost], feed_dict={X: x_data, Y: y_data})\n",
    "        if step % 100 == 0:\n",
    "            print(step, cost_val)\n",
    "\n",
    "# Accuracy report\n",
    "\n",
    "    h, p, a, w1, w2, b1, b2 = sess.run(\n",
    "        [hypothesis, predicted, accuracy, W1, W2, b1, b2], feed_dict={X: x_data, Y: y_data}\n",
    "    )\n",
    "    hidden_weights = w1\n",
    "    last_weights = w2\n",
    "    hidden_bias = b1\n",
    "    last_bias = b2\n",
    "    \n",
    "    print(\"\\nHypothesis: \", h, \"\\nCorrect: \", p, \"\\nAccuracy: \", a)"
   ]
  },
  {
   "cell_type": "code",
   "execution_count": 12,
   "metadata": {},
   "outputs": [
    {
     "name": "stdout",
     "output_type": "stream",
     "text": [
      "[[ 6.2634706  6.1245093]\n",
      " [-6.387642  -5.8188043]]\n",
      "hidden bias [-3.4012458  2.8795636]\n",
      "\n",
      "[[10.100042]\n",
      " [-9.598662]]\n",
      "last bias [4.462119]\n"
     ]
    }
   ],
   "source": [
    "print(w1)\n",
    "print('hidden bias',b1)\n",
    "print('')\n",
    "print(w2)\n",
    "print('last bias', b2)"
   ]
  }
 ],
 "metadata": {
  "anaconda-cloud": {},
  "kernelspec": {
   "display_name": "Python 3",
   "language": "python",
   "name": "python3"
  },
  "language_info": {
   "codemirror_mode": {
    "name": "ipython",
    "version": 3
   },
   "file_extension": ".py",
   "mimetype": "text/x-python",
   "name": "python",
   "nbconvert_exporter": "python",
   "pygments_lexer": "ipython3",
   "version": "3.7.5"
  }
 },
 "nbformat": 4,
 "nbformat_minor": 1
}
