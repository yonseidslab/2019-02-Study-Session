{
 "cells": [
  {
   "cell_type": "code",
   "execution_count": 1,
   "metadata": {},
   "outputs": [],
   "source": [
    "import scipy\n",
    "from scipy import ndimage\n",
    "\n",
    "import numpy as np\n",
    "\n",
    "import warnings\n",
    "warnings.filterwarnings(\"ignore\")"
   ]
  },
  {
   "cell_type": "code",
   "execution_count": 2,
   "metadata": {},
   "outputs": [],
   "source": [
    "three =  scipy.ndimage.imread('3.png', flatten=True)"
   ]
  },
  {
   "cell_type": "code",
   "execution_count": 3,
   "metadata": {
    "scrolled": true
   },
   "outputs": [
    {
     "name": "stdout",
     "output_type": "stream",
     "text": [
      "[[0.413 0.413 0.413 ... 0.413 0.413 0.413]\n",
      " [0.413 0.413 0.413 ... 0.413 0.413 0.413]\n",
      " [0.413 0.413 0.413 ... 1.413 0.413 0.413]\n",
      " ...\n",
      " [0.413 0.413 0.413 ... 7.    0.    0.413]\n",
      " [0.413 0.413 0.527 ... 0.    0.413 0.413]\n",
      " [0.413 0.413 0.413 ... 1.826 0.413 0.413]]\n"
     ]
    }
   ],
   "source": [
    "print(three)"
   ]
  },
  {
   "cell_type": "code",
   "execution_count": 4,
   "metadata": {},
   "outputs": [
    {
     "name": "stdout",
     "output_type": "stream",
     "text": [
      "(171, 172)\n"
     ]
    }
   ],
   "source": [
    "print(three.shape)"
   ]
  },
  {
   "cell_type": "markdown",
   "metadata": {},
   "source": [
    "좀 더 직관적으로 보기 위해서"
   ]
  },
  {
   "cell_type": "code",
   "execution_count": 5,
   "metadata": {},
   "outputs": [],
   "source": [
    "a = three.shape[0]\n",
    "b= three.shape[1]"
   ]
  },
  {
   "cell_type": "code",
   "execution_count": 6,
   "metadata": {
    "scrolled": true
   },
   "outputs": [],
   "source": [
    "#사이즈를 조정하고,\n",
    "three_resize = scipy.misc.imresize(three, (int(a/10),int(b/10)), interp='bilinear', mode=None)\n",
    "\n",
    "#255 기준으로 맞춰주고\n",
    "three_resize = 1.0 - three_resize/255.0\n",
    "\n",
    "#소수점 자리 정렬\n",
    "three_resize = np.around(three_resize, decimals=1)"
   ]
  },
  {
   "cell_type": "code",
   "execution_count": 7,
   "metadata": {
    "scrolled": true
   },
   "outputs": [
    {
     "name": "stdout",
     "output_type": "stream",
     "text": [
      "[[0.9 0.9 0.9 0.9 0.9 0.9 0.9 0.9 0.9 0.9 0.9 0.9 0.9 0.9 0.9 0.9 0.9]\n",
      " [0.9 1.  1.  1.  1.  1.  1.  1.  1.  1.  1.  1.  1.  1.  1.  1.  0.9]\n",
      " [0.9 1.  1.  1.  1.  1.  1.  1.  1.  1.  1.  1.  1.  1.  1.  1.  0.9]\n",
      " [0.9 1.  0.9 0.7 0.6 0.5 0.6 0.6 0.6 0.8 0.9 1.  1.  1.  1.  1.  0.9]\n",
      " [0.9 1.  0.5 0.1 0.1 0.2 0.2 0.2 0.2 0.2 0.4 0.9 1.  1.  1.  1.  0.9]\n",
      " [0.9 1.  0.8 0.7 0.7 0.8 0.8 0.9 0.7 0.2 0.2 0.8 1.  1.  1.  1.  0.9]\n",
      " [0.9 1.  1.  1.  1.  1.  1.  0.8 0.4 0.1 0.6 1.  1.  1.  1.  1.  0.9]\n",
      " [0.9 1.  1.  1.  1.  1.  0.8 0.3 0.  0.2 0.8 1.  1.  1.  1.  1.  0.9]\n",
      " [0.9 1.  1.  1.  1.  1.  0.6 0.1 0.  0.1 0.2 0.5 0.8 1.  1.  1.  0.9]\n",
      " [0.9 1.  1.  1.  1.  1.  0.9 0.8 0.6 0.4 0.1 0.  0.3 0.8 1.  1.  0.9]\n",
      " [0.9 1.  1.  1.  1.  1.  1.  1.  1.  0.9 0.6 0.1 0.1 0.6 1.  1.  0.9]\n",
      " [0.9 1.  1.  1.  1.  0.8 0.9 1.  1.  1.  0.8 0.2 0.1 0.7 1.  1.  0.9]\n",
      " [0.9 1.  1.  1.  0.8 0.3 0.7 1.  1.  0.8 0.4 0.  0.3 0.9 1.  1.  0.9]\n",
      " [0.9 1.  1.  1.  0.8 0.2 0.2 0.4 0.4 0.2 0.1 0.2 0.7 1.  1.  1.  0.9]\n",
      " [0.9 1.  1.  1.  1.  0.7 0.4 0.3 0.3 0.4 0.6 0.9 1.  1.  1.  1.  0.9]\n",
      " [0.9 1.  1.  1.  1.  1.  1.  0.9 0.9 1.  1.  1.  1.  1.  1.  1.  0.9]\n",
      " [0.9 0.9 0.9 0.9 0.9 0.9 0.9 0.9 0.9 0.9 0.9 0.9 0.9 0.9 0.9 0.9 0.9]]\n"
     ]
    }
   ],
   "source": [
    "print(three_resize)"
   ]
  },
  {
   "cell_type": "code",
   "execution_count": null,
   "metadata": {},
   "outputs": [],
   "source": []
  },
  {
   "cell_type": "code",
   "execution_count": null,
   "metadata": {},
   "outputs": [],
   "source": []
  },
  {
   "cell_type": "code",
   "execution_count": 8,
   "metadata": {},
   "outputs": [
    {
     "name": "stdout",
     "output_type": "stream",
     "text": [
      "(1720, 2584)\n"
     ]
    }
   ],
   "source": [
    "abc =  scipy.ndimage.imread('abc.jpg', flatten=True)\n",
    "print(abc.shape)"
   ]
  },
  {
   "cell_type": "code",
   "execution_count": 9,
   "metadata": {},
   "outputs": [],
   "source": [
    "a = abc.shape[0]\n",
    "b= abc.shape[1]\n",
    "\n",
    "#사이즈를 조정하고,\n",
    "abc_resize = scipy.misc.imresize(abc, (int(a/68),int(b/137)), interp='bilinear', mode=None)\n",
    "\n",
    "#255 기준으로 맞춰주고\n",
    "abc_resize = 1.0 - abc_resize/255.0\n",
    "\n",
    "#소수점 자리 정렬\n",
    "abc_resize = np.around(abc_resize, decimals=1)"
   ]
  },
  {
   "cell_type": "code",
   "execution_count": 10,
   "metadata": {},
   "outputs": [
    {
     "name": "stdout",
     "output_type": "stream",
     "text": [
      "[[0.  0.  0.  0.  0.  0.  0.  0.  0.  0.  0.  0.  0.  0.  0.  0.  0.  0. ]\n",
      " [0.  0.  0.  0.  0.  0.  0.  0.  0.  0.  0.  0.  0.  0.  0.  0.  0.  0. ]\n",
      " [0.  0.  0.  0.  0.  0.  0.  0.  0.  0.  0.  0.  0.  0.  0.  0.  0.  0. ]\n",
      " [0.  0.  0.  0.  0.  0.  0.  0.  0.  0.  0.  0.  0.  0.  0.  0.  0.  0. ]\n",
      " [0.  0.  0.  0.  0.  0.  0.  0.  0.  0.  0.  0.  0.  0.  0.  0.  0.  0. ]\n",
      " [0.  0.  0.  0.  0.  0.  0.1 0.  0.  0.  0.  0.  0.  0.  0.  0.  0.  0. ]\n",
      " [0.  0.  0.  0.  0.  0.1 0.5 0.1 0.  0.  0.  0.  0.  0.  0.  0.  0.  0. ]\n",
      " [0.  0.  0.  0.  0.  0.1 0.6 0.2 0.  0.  0.  0.2 0.1 0.  0.  0.  0.  0. ]\n",
      " [0.  0.  0.  0.  0.  0.1 0.7 0.5 0.1 0.  0.1 0.5 0.2 0.  0.  0.  0.  0. ]\n",
      " [0.  0.  0.  0.  0.  0.1 0.6 0.5 0.4 0.3 0.4 0.6 0.1 0.  0.  0.  0.  0. ]\n",
      " [0.  0.  0.  0.  0.  0.1 0.6 0.5 0.7 0.6 0.5 0.5 0.  0.  0.  0.  0.  0. ]\n",
      " [0.  0.  0.  0.  0.  0.1 0.6 0.7 0.8 0.6 0.6 0.4 0.  0.  0.  0.  0.  0. ]\n",
      " [0.  0.  0.  0.  0.  0.1 0.6 0.7 0.7 0.5 0.7 0.3 0.  0.  0.  0.  0.  0. ]\n",
      " [0.  0.  0.  0.  0.  0.1 0.7 0.7 0.6 0.4 0.7 0.4 0.  0.  0.  0.  0.  0. ]\n",
      " [0.  0.  0.  0.  0.  0.2 0.6 0.6 0.3 0.4 0.7 0.4 0.  0.  0.  0.  0.  0. ]\n",
      " [0.  0.  0.  0.  0.  0.2 0.5 0.4 0.2 0.2 0.5 0.4 0.  0.  0.  0.  0.  0. ]\n",
      " [0.  0.  0.  0.  0.  0.2 0.4 0.4 0.3 0.2 0.3 0.3 0.  0.  0.  0.  0.  0. ]\n",
      " [0.  0.  0.  0.  0.  0.2 0.3 0.3 0.3 0.2 0.3 0.3 0.  0.  0.  0.  0.  0. ]\n",
      " [0.  0.  0.  0.  0.  0.2 0.3 0.3 0.2 0.2 0.2 0.1 0.  0.  0.  0.  0.  0. ]\n",
      " [0.  0.  0.  0.  0.  0.3 0.3 0.2 0.2 0.2 0.2 0.1 0.  0.  0.  0.  0.  0. ]\n",
      " [0.  0.  0.  0.  0.  0.3 0.2 0.2 0.2 0.2 0.1 0.1 0.  0.  0.  0.  0.  0. ]\n",
      " [0.  0.  0.  0.  0.1 0.3 0.3 0.3 0.2 0.2 0.2 0.1 0.  0.  0.  0.  0.  0. ]\n",
      " [0.  0.  0.  0.  0.1 0.4 0.3 0.2 0.2 0.2 0.2 0.1 0.  0.  0.  0.  0.  0. ]\n",
      " [0.  0.  0.  0.  0.2 0.4 0.3 0.2 0.2 0.2 0.2 0.1 0.  0.  0.  0.  0.  0. ]\n",
      " [0.  0.  0.  0.  0.2 0.5 0.3 0.2 0.2 0.2 0.2 0.2 0.1 0.  0.  0.  0.  0. ]]\n"
     ]
    }
   ],
   "source": [
    "print(abc_resize)"
   ]
  },
  {
   "cell_type": "code",
   "execution_count": 11,
   "metadata": {},
   "outputs": [],
   "source": [
    "##만약에, 전체 매트릭스가 안나온다면 아래 코드를 시행 후 재시도\n",
    "#import sys\n",
    "#import numpy\n",
    "#numpy.set_printoptions(threshold=sys.maxsize)"
   ]
  }
 ],
 "metadata": {
  "kernelspec": {
   "display_name": "Python 3",
   "language": "python",
   "name": "python3"
  },
  "language_info": {
   "codemirror_mode": {
    "name": "ipython",
    "version": 3
   },
   "file_extension": ".py",
   "mimetype": "text/x-python",
   "name": "python",
   "nbconvert_exporter": "python",
   "pygments_lexer": "ipython3",
   "version": "3.7.3"
  }
 },
 "nbformat": 4,
 "nbformat_minor": 2
}
