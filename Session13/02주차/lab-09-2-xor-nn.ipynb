{
 "cells": [
  {
   "cell_type": "code",
   "execution_count": 1,
   "metadata": {},
   "outputs": [],
   "source": [
    "# 앞에서 봤던, 일반적인 linear modeling와 달리, neural network를 구현함.\n",
    "import tensorflow as tf\n",
    "import numpy as np\n",
    "\n",
    "tf.set_random_seed(777)  # for reproducibility"
   ]
  },
  {
   "cell_type": "code",
   "execution_count": 2,
   "metadata": {},
   "outputs": [],
   "source": [
    "# 데이터\n",
    "x_data = np.array([[0, 0], [0, 1], [1, 0], [1, 1]], dtype=np.float32)\n",
    "# 정답\n",
    "y_data = np.array([[0], [1], [1], [0]], dtype=np.float32)"
   ]
  },
  {
   "cell_type": "code",
   "execution_count": 3,
   "metadata": {},
   "outputs": [],
   "source": [
    "# 앞의 None : 몇 개의 데이터가 들어올지 모르므로, None\n",
    "# 뒤의 2 : 피쳐는 총 두 개뿐. (x1, x2)\n",
    "X = tf.placeholder(tf.float32, [None, 2])\n",
    "\n",
    "# 앞의 None : 몇 개의 데이터가 들어올지 모르므로, None\n",
    "# 결국, 0과 1 둘 중에 하나의 결과를 내놓는 것이므로\n",
    "Y = tf.placeholder(tf.float32, [None, 1])"
   ]
  },
  {
   "cell_type": "code",
   "execution_count": 4,
   "metadata": {},
   "outputs": [],
   "source": [
    "#히든 레이어의 가중치의 매트릭스 형태(2X2)\n",
    "W1 = tf.Variable(tf.random_normal([2, 2]), name='weight1')\n",
    "#히든 레이어의 bias의 매트릭스 형태(1X2)\n",
    "b1 = tf.Variable(tf.random_normal([2]), name='bias1')"
   ]
  },
  {
   "cell_type": "code",
   "execution_count": 6,
   "metadata": {},
   "outputs": [],
   "source": [
    "#XW1 + b1의 계산\n",
    "layer1 = tf.sigmoid(tf.matmul(X, W1) + b1)"
   ]
  },
  {
   "cell_type": "code",
   "execution_count": 7,
   "metadata": {},
   "outputs": [],
   "source": [
    "# 위의 과정 반복, 단 이제는 마지막 0 혹은 1의 값이 나와야하므로 2X2\n",
    "W2 = tf.Variable(tf.random_normal([2, 1]), name='weight2')\n",
    "b2 = tf.Variable(tf.random_normal([1]), name='bias2')"
   ]
  },
  {
   "cell_type": "code",
   "execution_count": 8,
   "metadata": {},
   "outputs": [],
   "source": [
    "# 최종 가설\n",
    "hypothesis = tf.sigmoid(tf.matmul(layer1, W2) + b2)"
   ]
  },
  {
   "cell_type": "code",
   "execution_count": 9,
   "metadata": {},
   "outputs": [],
   "source": [
    "# cost/loss function : logistic regression (binary classification이므로)\n",
    "cost = -tf.reduce_mean(Y * tf.log(hypothesis) + (1 - Y) * tf.log(1 - hypothesis))"
   ]
  },
  {
   "cell_type": "code",
   "execution_count": 10,
   "metadata": {},
   "outputs": [],
   "source": [
    "train = tf.train.GradientDescentOptimizer(learning_rate=0.1).minimize(cost)"
   ]
  },
  {
   "cell_type": "code",
   "execution_count": 11,
   "metadata": {},
   "outputs": [],
   "source": [
    "# Accuracy computation\n",
    "# True if hypothesis>0.5 else False (binary이므로)\n",
    "predicted = tf.cast(hypothesis > 0.5, dtype=tf.float32)\n",
    "accuracy = tf.reduce_mean(tf.cast(tf.equal(predicted, Y), dtype=tf.float32))"
   ]
  },
  {
   "cell_type": "code",
   "execution_count": 12,
   "metadata": {
    "scrolled": true
   },
   "outputs": [
    {
     "name": "stdout",
     "output_type": "stream",
     "text": [
      "0 0.6946535\n",
      "100 0.690763\n",
      "200 0.6893102\n",
      "300 0.6877025\n",
      "400 0.6858376\n",
      "500 0.68359673\n",
      "600 0.68082744\n",
      "700 0.6773274\n",
      "800 0.67282295\n",
      "900 0.66694546\n",
      "1000 0.65920043\n",
      "1100 0.648931\n",
      "1200 0.6352818\n",
      "1300 0.61717916\n",
      "1400 0.59338295\n",
      "1500 0.56271344\n",
      "1600 0.524569\n",
      "1700 0.4796393\n",
      "1800 0.4302909\n",
      "1900 0.3800384\n",
      "2000 0.33230096\n",
      "2100 0.2893784\n",
      "2200 0.25221896\n",
      "2300 0.22076732\n",
      "2400 0.1944375\n",
      "2500 0.17246325\n",
      "2600 0.15408932\n",
      "2700 0.13865167\n",
      "2800 0.12559783\n",
      "2900 0.11448115\n",
      "3000 0.104944676\n",
      "3100 0.09670439\n",
      "3200 0.08953462\n",
      "3300 0.08325491\n",
      "3400 0.07772047\n",
      "3500 0.07281444\n",
      "3600 0.06844191\n",
      "3700 0.06452505\n",
      "3800 0.0609999\n",
      "3900 0.05781337\n",
      "4000 0.054921098\n",
      "4100 0.052286096\n",
      "4200 0.04987683\n",
      "4300 0.047666628\n",
      "4400 0.04563285\n",
      "4500 0.04375588\n",
      "4600 0.042018987\n",
      "4700 0.04040755\n",
      "4800 0.038908925\n",
      "4900 0.037512057\n",
      "5000 0.036207244\n",
      "5100 0.034985878\n",
      "5200 0.033840477\n",
      "5300 0.0327645\n",
      "5400 0.031751785\n",
      "5500 0.03079721\n",
      "5600 0.029895995\n",
      "5700 0.029043918\n",
      "5800 0.028237132\n",
      "5900 0.02747222\n",
      "6000 0.02674615\n",
      "6100 0.026056025\n",
      "6200 0.025399314\n",
      "6300 0.024773704\n",
      "6400 0.024177086\n",
      "6500 0.023607563\n",
      "6600 0.023063391\n",
      "6700 0.022542872\n",
      "6800 0.022044528\n",
      "6900 0.021567099\n",
      "7000 0.021109225\n",
      "7100 0.020669784\n",
      "7200 0.020247689\n",
      "7300 0.019842\n",
      "7400 0.019451775\n",
      "7500 0.019076109\n",
      "7600 0.018714335\n",
      "7700 0.018365573\n",
      "7800 0.018029228\n",
      "7900 0.017704641\n",
      "8000 0.017391251\n",
      "8100 0.017088395\n",
      "8200 0.016795682\n",
      "8300 0.016512547\n",
      "8400 0.016238509\n",
      "8500 0.015973257\n",
      "8600 0.015716301\n",
      "8700 0.015467272\n",
      "8800 0.015225766\n",
      "8900 0.014991555\n",
      "9000 0.014764239\n",
      "9100 0.01454354\n",
      "9200 0.014329228\n",
      "9300 0.014120934\n",
      "9400 0.013918534\n",
      "9500 0.0137216635\n",
      "9600 0.013530197\n",
      "9700 0.013343888\n",
      "9800 0.013162496\n",
      "9900 0.012985877\n",
      "10000 0.012813806\n",
      "\n",
      "Hypothesis:  [[0.01243238]\n",
      " [0.9834992 ]\n",
      " [0.9885492 ]\n",
      " [0.01052712]] \n",
      "Correct:  [[0.]\n",
      " [1.]\n",
      " [1.]\n",
      " [0.]] \n",
      "Accuracy:  1.0\n"
     ]
    }
   ],
   "source": [
    "# Launch graph\n",
    "with tf.Session() as sess:\n",
    "    # Initialize TensorFlow variables\n",
    "    sess.run(tf.global_variables_initializer())\n",
    "\n",
    "    for step in range(10001):\n",
    "        _, cost_val = sess.run([train, cost], feed_dict={X: x_data, Y: y_data})\n",
    "        if step % 100 == 0:\n",
    "            print(step, cost_val)\n",
    "\n",
    "# Accuracy report\n",
    "\n",
    "    h, p, a, w1, w2, b1, b2 = sess.run(\n",
    "        [hypothesis, predicted, accuracy, W1, W2, b1, b2], feed_dict={X: x_data, Y: y_data}\n",
    "    )\n",
    "    hidden_weights = w1\n",
    "    last_weights = w2\n",
    "    hidden_bias = b1\n",
    "    last_bias = b2\n",
    "    \n",
    "    print(\"\\nHypothesis: \", h, \"\\nCorrect: \", p, \"\\nAccuracy: \", a)"
   ]
  },
  {
   "cell_type": "code",
   "execution_count": 13,
   "metadata": {},
   "outputs": [
    {
     "name": "stdout",
     "output_type": "stream",
     "text": [
      "[[ 6.430921  5.854648]\n",
      " [-6.216564 -6.10559 ]]\n",
      "hidden bias [ 3.1273067 -3.1356225]\n",
      "\n",
      "[[-9.722856]\n",
      " [10.307824]]\n",
      "last bias [4.5101647]\n"
     ]
    }
   ],
   "source": [
    "print(w1)\n",
    "print('hidden bias',b1)\n",
    "print('')\n",
    "print(w2)\n",
    "print('last bias', b2)"
   ]
  }
 ],
 "metadata": {
  "anaconda-cloud": {},
  "kernelspec": {
   "display_name": "Python 3",
   "language": "python",
   "name": "python3"
  },
  "language_info": {
   "codemirror_mode": {
    "name": "ipython",
    "version": 3
   },
   "file_extension": ".py",
   "mimetype": "text/x-python",
   "name": "python",
   "nbconvert_exporter": "python",
   "pygments_lexer": "ipython3",
   "version": "3.7.3"
  }
 },
 "nbformat": 4,
 "nbformat_minor": 1
}
