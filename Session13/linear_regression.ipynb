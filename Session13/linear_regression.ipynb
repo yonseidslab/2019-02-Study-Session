{
 "cells": [
  {
   "cell_type": "markdown",
   "metadata": {},
   "source": [
    "# Linear Regression"
   ]
  },
  {
   "cell_type": "code",
   "execution_count": 1,
   "metadata": {},
   "outputs": [],
   "source": [
    "import tensorflow as tf\n",
    "tf.set_random_seed(777)  # for reproducibility"
   ]
  },
  {
   "cell_type": "code",
   "execution_count": 2,
   "metadata": {},
   "outputs": [
    {
     "data": {
      "text/plain": [
       "'1.15.0'"
      ]
     },
     "execution_count": 2,
     "metadata": {},
     "output_type": "execute_result"
    }
   ],
   "source": [
    "tf.__version__"
   ]
  },
  {
   "cell_type": "code",
   "execution_count": 3,
   "metadata": {},
   "outputs": [],
   "source": [
    "# X and Y data\n",
    "x_train = [1, 2, 3]\n",
    "y_train = [1, 2, 3]\n",
    "\n",
    "W = tf.Variable(tf.random_normal([1]), name=\"weight\")\n",
    "b = tf.Variable(tf.random_normal([1]), name=\"bias\")"
   ]
  },
  {
   "cell_type": "code",
   "execution_count": 4,
   "metadata": {},
   "outputs": [],
   "source": [
    "# Our hypothesis XW+b\n",
    "hypothesis1 = x_train * W + b"
   ]
  },
  {
   "cell_type": "code",
   "execution_count": 5,
   "metadata": {},
   "outputs": [],
   "source": [
    "# cost/loss function\n",
    "cost = tf.reduce_mean(tf.square(hypothesis1 - y_train))"
   ]
  },
  {
   "cell_type": "code",
   "execution_count": 6,
   "metadata": {},
   "outputs": [],
   "source": [
    "# optimizer\n",
    "# optimizer = tf.train.GradientDescentOptimizer(learning_rate=0.01)\n",
    "# train = optimizer.minimize(cost)\n",
    "# 위와 같은 과정을, 더욱 간단히 쓸 수 있음)"
   ]
  },
  {
   "cell_type": "code",
   "execution_count": 7,
   "metadata": {},
   "outputs": [],
   "source": [
    "train = tf.train.GradientDescentOptimizer(learning_rate=0.01).minimize(cost)"
   ]
  },
  {
   "cell_type": "code",
   "execution_count": 8,
   "metadata": {
    "scrolled": true
   },
   "outputs": [
    {
     "name": "stdout",
     "output_type": "stream",
     "text": [
      "0번째 수행결과 : weights[2.1286771] & biases[-0.8523567] ... cost[3.52408]\n",
      "100번째 수행결과 : weights[1.3908179] & biases[-0.8884077] ... cost[0.11377]\n",
      "200번째 수행결과 : weights[1.3072149] & biases[-0.69837123] ... cost[0.07030]\n",
      "300번째 수행결과 : weights[1.2414987] & biases[-0.5489837] ... cost[0.04344]\n",
      "400번째 수행결과 : weights[1.18984] & biases[-0.43155095] ... cost[0.02685]\n",
      "500번째 수행결과 : weights[1.1492316] & biases[-0.3392383] ... cost[0.01659]\n",
      "600번째 수행결과 : weights[1.1173096] & biases[-0.2666721] ... cost[0.01025]\n",
      "700번째 수행결과 : weights[1.092216] & biases[-0.20962876] ... cost[0.00633]\n",
      "800번째 수행결과 : weights[1.0724903] & biases[-0.1647873] ... cost[0.00391]\n",
      "900번째 수행결과 : weights[1.056984] & biases[-0.12953807] ... cost[0.00242]\n",
      "1000번째 수행결과 : weights[1.0447947] & biases[-0.10182866] ... cost[0.00149]\n",
      "1100번째 수행결과 : weights[1.0352126] & biases[-0.08004666] ... cost[0.00092]\n",
      "1200번째 수행결과 : weights[1.0276803] & biases[-0.06292386] ... cost[0.00057]\n",
      "1300번째 수행결과 : weights[1.0217594] & biases[-0.04946398] ... cost[0.00035]\n",
      "1400번째 수행결과 : weights[1.0171049] & biases[-0.03888333] ... cost[0.00022]\n",
      "1500번째 수행결과 : weights[1.013446] & biases[-0.03056577] ... cost[0.00013]\n",
      "1600번째 수행결과 : weights[1.0105698] & biases[-0.02402752] ... cost[0.00008]\n",
      "1700번째 수행결과 : weights[1.0083086] & biases[-0.0188876] ... cost[0.00005]\n",
      "1800번째 수행결과 : weights[1.0065314] & biases[-0.0148474] ... cost[0.00003]\n",
      "1900번째 수행결과 : weights[1.0051342] & biases[-0.01167136] ... cost[0.00002]\n",
      "2000번째 수행결과 : weights[1.004036] & biases[-0.00917477] ... cost[0.00001]\n"
     ]
    }
   ],
   "source": [
    "# Launch the graph in a session.\n",
    "with tf.Session() as sess:\n",
    "    # Initializes global variables in the graph.\n",
    "    sess.run(tf.global_variables_initializer())\n",
    "\n",
    "    # Fit the line\n",
    "    for step in range(2001):\n",
    "        _, cost_val, W_val, b_val = sess.run([train, cost, W, b])\n",
    "\n",
    "        if step % 100 == 0:\n",
    "            print(\"{}번째 수행결과 : weights{} & biases{} ... cost[{:.5f}]\".format(step, W_val, b_val, cost_val))"
   ]
  },
  {
   "cell_type": "markdown",
   "metadata": {},
   "source": [
    "-  실제 : y = x"
   ]
  },
  {
   "cell_type": "markdown",
   "metadata": {},
   "source": [
    "# Linear Regression : Placeholder 사용"
   ]
  },
  {
   "cell_type": "code",
   "execution_count": 9,
   "metadata": {},
   "outputs": [],
   "source": [
    "A = tf.placeholder(tf.float32, shape=[None])\n",
    "B = tf.placeholder(tf.float32, shape=[None])"
   ]
  },
  {
   "cell_type": "code",
   "execution_count": 10,
   "metadata": {},
   "outputs": [],
   "source": [
    "hypothesis2 = A * W + b\n",
    "cost = tf.reduce_mean(tf.square(hypothesis2 - B))\n",
    "train = tf.train.GradientDescentOptimizer(learning_rate=0.01).minimize(cost)"
   ]
  },
  {
   "cell_type": "code",
   "execution_count": 11,
   "metadata": {
    "scrolled": true
   },
   "outputs": [
    {
     "name": "stdout",
     "output_type": "stream",
     "text": [
      "0번째 수행결과 : weights[2.0579872] & biases[-0.85453004] ... cost[5.83080]\n",
      "100번째 수행결과 : weights[1.4120823] & biases[-0.3877482] ... cost[0.40561]\n",
      "200번째 수행결과 : weights[1.2936987] & biases[0.03965458] ... cost[0.20604]\n",
      "300번째 수행결과 : weights[1.2093245] & biases[0.34427223] ... cost[0.10466]\n",
      "400번째 수행결과 : weights[1.1491894] & biases[0.561379] ... cost[0.05316]\n",
      "500번째 수행결과 : weights[1.10633] & biases[0.7161149] ... cost[0.02701]\n",
      "600번째 수행결과 : weights[1.0757834] & biases[0.82639784] ... cost[0.01372]\n",
      "700번째 수행결과 : weights[1.0540123] & biases[0.9049987] ... cost[0.00697]\n",
      "800번째 수행결과 : weights[1.0384955] & biases[0.9610188] ... cost[0.00354]\n",
      "900번째 수행결과 : weights[1.0274365] & biases[1.0009454] ... cost[0.00180]\n",
      "1000번째 수행결과 : weights[1.0195545] & biases[1.0294019] ... cost[0.00091]\n",
      "1100번째 수행결과 : weights[1.0139369] & biases[1.0496835] ... cost[0.00046]\n",
      "1200번째 수행결과 : weights[1.009933] & biases[1.0641385] ... cost[0.00024]\n",
      "1300번째 수행결과 : weights[1.0070795] & biases[1.0744407] ... cost[0.00012]\n",
      "1400번째 수행결과 : weights[1.0050455] & biases[1.0817839] ... cost[0.00006]\n",
      "1500번째 수행결과 : weights[1.0035961] & biases[1.087017] ... cost[0.00003]\n",
      "1600번째 수행결과 : weights[1.002563] & biases[1.0907469] ... cost[0.00002]\n",
      "1700번째 수행결과 : weights[1.0018266] & biases[1.0934051] ... cost[0.00001]\n",
      "1800번째 수행결과 : weights[1.0013019] & biases[1.0952998] ... cost[0.00000]\n",
      "1900번째 수행결과 : weights[1.0009279] & biases[1.0966498] ... cost[0.00000]\n",
      "2000번째 수행결과 : weights[1.0006615] & biases[1.0976118] ... cost[0.00000]\n"
     ]
    }
   ],
   "source": [
    "with tf.Session() as sess:\n",
    "    # Initializes global variables in the graph.\n",
    "    sess.run(tf.global_variables_initializer())\n",
    "\n",
    "    # Fit the line with new training data\n",
    "    for step in range(2001):\n",
    "        _, cost_val, W_val, b_val = sess.run([train, cost, W, b],\n",
    "                                             feed_dict={A: [1, 2, 3, 4, 5], B: [2.1, 3.1, 4.1, 5.1, 6.1]})\n",
    "        if step % 100 == 0:\n",
    "            print(\"{}번째 수행결과 : weights{} & biases{} ... cost[{:.5f}]\".format(step, W_val, b_val, cost_val))"
   ]
  },
  {
   "cell_type": "markdown",
   "metadata": {},
   "source": [
    "-  실제 : y = x + 0.1"
   ]
  }
 ],
 "metadata": {
  "anaconda-cloud": {},
  "kernelspec": {
   "display_name": "Python 3",
   "language": "python",
   "name": "python3"
  },
  "language_info": {
   "codemirror_mode": {
    "name": "ipython",
    "version": 3
   },
   "file_extension": ".py",
   "mimetype": "text/x-python",
   "name": "python",
   "nbconvert_exporter": "python",
   "pygments_lexer": "ipython3",
   "version": "3.7.5"
  }
 },
 "nbformat": 4,
 "nbformat_minor": 1
}
